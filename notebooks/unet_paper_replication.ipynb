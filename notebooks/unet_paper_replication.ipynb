{
 "cells": [
  {
   "cell_type": "markdown",
   "metadata": {},
   "source": [
    "# U-net Paper Replication\n",
    "\n",
    "- Original Paper: https://arxiv.org/abs/1505.04597"
   ]
  },
  {
   "cell_type": "code",
   "execution_count": null,
   "metadata": {},
   "outputs": [],
   "source": [
    "!nvidia-smi"
   ]
  },
  {
   "cell_type": "code",
   "execution_count": null,
   "metadata": {},
   "outputs": [],
   "source": [
    "import torch\n",
    "import torchvision\n",
    "\n",
    "print(f\"torch version: {torch.__version__}\")\n",
    "print(f\"torchvision version: {torchvision.__version__}\")"
   ]
  },
  {
   "cell_type": "code",
   "execution_count": null,
   "metadata": {},
   "outputs": [],
   "source": [
    "import os\n",
    "import sys\n",
    "from pathlib import Path\n",
    "\n",
    "sys.path.insert(0, str(Path(os.getcwd()).parent))"
   ]
  },
  {
   "cell_type": "code",
   "execution_count": null,
   "metadata": {},
   "outputs": [],
   "source": [
    "device = \"cuda\" if torch.cuda.is_available() else \"cpu\"\n",
    "\n",
    "print(f\"Device: {device}\")"
   ]
  },
  {
   "cell_type": "code",
   "execution_count": null,
   "metadata": {},
   "outputs": [],
   "source": [
    "BATCH_SIZE = 8\n",
    "IMAGE_SIZE = (256, 512)\n",
    "NUM_WORKERS = 2\n",
    "\n",
    "SEED = 42"
   ]
  },
  {
   "cell_type": "markdown",
   "metadata": {},
   "source": [
    "## 01. Data"
   ]
  },
  {
   "cell_type": "code",
   "execution_count": null,
   "metadata": {},
   "outputs": [],
   "source": [
    "import albumentations as A\n",
    "from albumentations.pytorch import ToTensorV2\n",
    "\n",
    "from src.data.dataset import DATASET_NAME\n",
    "from src.data.dataloader import get_dataloaders\n",
    "\n",
    "\n",
    "transform_train = A.Compose(\n",
    "    [\n",
    "        A.Resize(IMAGE_SIZE[0], IMAGE_SIZE[1]),\n",
    "        A.HorizontalFlip(),\n",
    "        A.ColorJitter(brightness=0.2, contrast=0.2, saturation=0.2, hue=0.2, p=0.5),\n",
    "        A.ToGray(p=0.3),\n",
    "        A.Normalize(mean=(0.485, 0.456, 0.406), std=(0.229, 0.224, 0.225)),\n",
    "        ToTensorV2(),\n",
    "    ]\n",
    ")\n",
    "\n",
    "transform_test = A.Compose(\n",
    "    [\n",
    "        A.Resize(IMAGE_SIZE[0], IMAGE_SIZE[1]),\n",
    "        A.Normalize(mean=(0.485, 0.456, 0.406), std=(0.229, 0.224, 0.225)),\n",
    "        ToTensorV2(),\n",
    "    ]\n",
    ")\n",
    "\n",
    "train_dataloader, test_dataloader, num_classes = get_dataloaders(\n",
    "    dataset=DATASET_NAME.CITYSCAPES,\n",
    "    root=Path(\"/home/geri/work/dataset/cityscapes\"),\n",
    "    batch_size=BATCH_SIZE,\n",
    "    num_workers=NUM_WORKERS,\n",
    "    transform_train=transform_train,\n",
    "    transform_test=transform_test,\n",
    ")"
   ]
  },
  {
   "cell_type": "code",
   "execution_count": null,
   "metadata": {},
   "outputs": [],
   "source": [
    "import matplotlib.pyplot as plt\n",
    "\n",
    "img, target = next(iter(test_dataloader))\n",
    "\n",
    "fig = plt.figure(figsize=(20, 30))\n",
    "\n",
    "fig.add_subplot(1, 2, 1)\n",
    "plt.imshow(img[0].permute(1, 2, 0))\n",
    "plt.axis(False)\n",
    "\n",
    "fig.add_subplot(1, 2, 2)\n",
    "plt.imshow(target[0])\n",
    "plt.axis(False)"
   ]
  },
  {
   "cell_type": "code",
   "execution_count": null,
   "metadata": {},
   "outputs": [],
   "source": [
    "import numpy as np\n",
    "\n",
    "print(f\"Image Size: {img[0].shape}\\tTarget Size: {target[0].shape}\")\n",
    "print(f\"Labels in target image: {np.unique(target[0])}\")"
   ]
  },
  {
   "cell_type": "markdown",
   "metadata": {},
   "source": [
    "## 02. Model"
   ]
  },
  {
   "cell_type": "code",
   "execution_count": null,
   "metadata": {},
   "outputs": [],
   "source": [
    "from src.models.unet.unet import UNet\n",
    "from torchinfo import summary\n",
    "\n",
    "model = UNet(out_channels=num_classes).to(device)\n",
    "\n",
    "summary(\n",
    "    model,\n",
    "    input_size=(1, 3, IMAGE_SIZE[0], IMAGE_SIZE[1]),\n",
    "    verbose=0,\n",
    "    col_names=[\"input_size\", \"output_size\", \"num_params\", \"trainable\"],\n",
    "    col_width=20,\n",
    "    row_settings=[\"var_names\"],\n",
    ")"
   ]
  },
  {
   "cell_type": "markdown",
   "metadata": {},
   "source": [
    "## 03. Train"
   ]
  },
  {
   "cell_type": "code",
   "execution_count": null,
   "metadata": {},
   "outputs": [],
   "source": [
    "import src.utils.loggers as loggers\n",
    "\n",
    "root = Path(os.getcwd()).parent\n",
    "writer = loggers.create_tensorboard_writer(\n",
    "    path=root / \"runs\",\n",
    "    experiment_name=\"Cityscapes_Segmentation\",\n",
    "    model_name=\"U-Net\",\n",
    "    extra=\"batch-8_lr-10e-4_weight-decay-10e-7_dice-loss_lr-scheduler\",\n",
    ")\n",
    "\n",
    "model_saver = loggers.ModelSaver(path=root / \"checkpoints\", model_name=\"U-Net\")"
   ]
  },
  {
   "cell_type": "code",
   "execution_count": null,
   "metadata": {},
   "outputs": [],
   "source": [
    "from torch import nn\n",
    "\n",
    "from src.models.train import train\n",
    "from src.utils.losses import DiceLoss\n",
    "\n",
    "EPOCHS = 75\n",
    "\n",
    "loss_fn = DiceLoss()\n",
    "optimizer = torch.optim.Adam(params=model.parameters(), lr=10e-4, weight_decay=10e-6)\n",
    "scheduler = torch.optim.lr_scheduler.CosineAnnealingLR(optimizer=optimizer, T_max=EPOCHS, eta_min=10e-5)\n",
    "\n",
    "train(\n",
    "    model=model,\n",
    "    train_dataloader=train_dataloader,\n",
    "    test_dataloader=test_dataloader,\n",
    "    loss_fn=loss_fn,\n",
    "    optimizer=optimizer,\n",
    "    scheduler=scheduler,\n",
    "    epochs=EPOCHS,\n",
    "    device=device,\n",
    "    writer=writer,\n",
    "    model_saver=model_saver,\n",
    "    use_amp=True,\n",
    ")"
   ]
  }
 ],
 "metadata": {
  "kernelspec": {
   "display_name": "computer_vision",
   "language": "python",
   "name": "python3"
  },
  "language_info": {
   "codemirror_mode": {
    "name": "ipython",
    "version": 3
   },
   "file_extension": ".py",
   "mimetype": "text/x-python",
   "name": "python",
   "nbconvert_exporter": "python",
   "pygments_lexer": "ipython3",
   "version": "3.10.12"
  }
 },
 "nbformat": 4,
 "nbformat_minor": 2
}
